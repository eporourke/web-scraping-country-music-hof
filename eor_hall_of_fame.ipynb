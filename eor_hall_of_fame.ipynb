{
 "cells": [
  {
   "cell_type": "code",
   "execution_count": 117,
   "id": "ae442356",
   "metadata": {},
   "outputs": [],
   "source": [
    "import requests\n",
    "from bs4 import BeautifulSoup  \n",
    "import pandas as pd\n",
    "import re"
   ]
  },
  {
   "cell_type": "code",
   "execution_count": 118,
   "id": "cd2baeb0",
   "metadata": {},
   "outputs": [
    {
     "data": {
      "text/plain": [
       "200"
      ]
     },
     "execution_count": 118,
     "metadata": {},
     "output_type": "execute_result"
    }
   ],
   "source": [
    "website_url = 'https://countrymusichalloffame.org/hall-of-fame/members/'\n",
    "hall_of_fame = requests.get(website_url)\n",
    "\n",
    "hall_of_fame.status_code"
   ]
  },
  {
   "cell_type": "code",
   "execution_count": null,
   "id": "983d05cf",
   "metadata": {},
   "outputs": [],
   "source": [
    "print(type(response))\n",
    "hall_of_fame.content"
   ]
  },
  {
   "cell_type": "code",
   "execution_count": 120,
   "id": "0204698d",
   "metadata": {},
   "outputs": [],
   "source": [
    "music = BeautifulSoup(hall_of_fame.content, 'lxml')"
   ]
  },
  {
   "cell_type": "code",
   "execution_count": 143,
   "id": "256ea3d5",
   "metadata": {},
   "outputs": [],
   "source": [
    "artists = music.find_all('h3')"
   ]
  },
  {
   "cell_type": "code",
   "execution_count": 150,
   "id": "049aa1c1",
   "metadata": {},
   "outputs": [],
   "source": [
    "# list comprehension\n",
    "artist_list = [artist.text for artist in artists]\n",
    "# good for performing a very simple task on each element of a list (a for loop in one line)\n",
    "# artist[] = []\n",
    "# for artist in artists:\n",
    "#     artist_list.append(artist.text)\n",
    "# each interation of the loop uses variable "
   ]
  },
  {
   "cell_type": "code",
   "execution_count": 151,
   "id": "370d2889",
   "metadata": {},
   "outputs": [
    {
     "data": {
      "text/plain": [
       "['Roy Acuff',\n",
       " 'Alabama',\n",
       " 'Bill Anderson',\n",
       " 'Eddy Arnold',\n",
       " 'Chet Atkins',\n",
       " 'Gene Autry',\n",
       " 'DeFord Bailey',\n",
       " 'Bobby Bare',\n",
       " 'Johnny Bond']"
      ]
     },
     "execution_count": 151,
     "metadata": {},
     "output_type": "execute_result"
    }
   ],
   "source": [
    "artist_list\n",
    "#attribute.text - in the list comprehension put x.text"
   ]
  },
  {
   "cell_type": "markdown",
   "id": "e8c0e7ca",
   "metadata": {},
   "source": [
    "## OR"
   ]
  },
  {
   "cell_type": "code",
   "execution_count": 155,
   "id": "e2ceedeb",
   "metadata": {
    "scrolled": true
   },
   "outputs": [
    {
     "name": "stdout",
     "output_type": "stream",
     "text": [
      "[<div class=\"vertical-card_content--copy\">\n",
      "<p>\n",
      "                    Inducted 1962                  </p>\n",
      "</div>, <div class=\"vertical-card_content--copy\">\n",
      "<p>\n",
      "                    Inducted 2005                  </p>\n",
      "</div>, <div class=\"vertical-card_content--copy\">\n",
      "<p>\n",
      "                    Inducted 2001                  </p>\n",
      "</div>, <div class=\"vertical-card_content--copy\">\n",
      "<p>\n",
      "                    Inducted 1966                  </p>\n",
      "</div>, <div class=\"vertical-card_content--copy\">\n",
      "<p>\n",
      "                    Inducted 1973                  </p>\n",
      "</div>, <div class=\"vertical-card_content--copy\">\n",
      "<p>\n",
      "                    Inducted 1969                  </p>\n",
      "</div>, <div class=\"vertical-card_content--copy\">\n",
      "<p>\n",
      "                    Inducted 2005                  </p>\n",
      "</div>, <div class=\"vertical-card_content--copy\">\n",
      "<p>\n",
      "                    Inducted 2013                  </p>\n",
      "</div>, <div class=\"vertical-card_content--copy\">\n",
      "<p>\n",
      "                    Inducted 1999                  </p>\n",
      "</div>]\n"
     ]
    }
   ],
   "source": [
    "year_all = music.find_all('div', attrs = {'class': 'vertical-card_content--copy'})\n",
    "print(year_all)"
   ]
  },
  {
   "cell_type": "code",
   "execution_count": 156,
   "id": "d2b6d366",
   "metadata": {},
   "outputs": [],
   "source": [
    "# list comprehension\n",
    "year_list = [year.text for year in year_all]"
   ]
  },
  {
   "cell_type": "code",
   "execution_count": 157,
   "id": "48d6230a",
   "metadata": {},
   "outputs": [
    {
     "data": {
      "text/plain": [
       "['\\n\\n                    Inducted 1962                  \\n',\n",
       " '\\n\\n                    Inducted 2005                  \\n',\n",
       " '\\n\\n                    Inducted 2001                  \\n',\n",
       " '\\n\\n                    Inducted 1966                  \\n',\n",
       " '\\n\\n                    Inducted 1973                  \\n',\n",
       " '\\n\\n                    Inducted 1969                  \\n',\n",
       " '\\n\\n                    Inducted 2005                  \\n',\n",
       " '\\n\\n                    Inducted 2013                  \\n',\n",
       " '\\n\\n                    Inducted 1999                  \\n']"
      ]
     },
     "execution_count": 157,
     "metadata": {},
     "output_type": "execute_result"
    }
   ],
   "source": [
    "year_list"
   ]
  },
  {
   "cell_type": "code",
   "execution_count": 186,
   "id": "809242dc",
   "metadata": {},
   "outputs": [
    {
     "data": {
      "text/plain": [
       "[None, None, None, None, None, None, None, None, None]"
      ]
     },
     "execution_count": 186,
     "metadata": {},
     "output_type": "execute_result"
    }
   ],
   "source": [
    "regex = re.compile('\\d+')\n",
    "years_list = [regex.match(y) for y in year_list]\n",
    "years_list"
   ]
  },
  {
   "cell_type": "code",
   "execution_count": null,
   "id": "49535324",
   "metadata": {},
   "outputs": [],
   "source": []
  }
 ],
 "metadata": {
  "kernelspec": {
   "display_name": "Python 3",
   "language": "python",
   "name": "python3"
  },
  "language_info": {
   "codemirror_mode": {
    "name": "ipython",
    "version": 3
   },
   "file_extension": ".py",
   "mimetype": "text/x-python",
   "name": "python",
   "nbconvert_exporter": "python",
   "pygments_lexer": "ipython3",
   "version": "3.8.8"
  }
 },
 "nbformat": 4,
 "nbformat_minor": 5
}
